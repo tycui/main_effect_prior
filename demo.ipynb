{
 "cells": [
  {
   "cell_type": "code",
   "execution_count": 11,
   "metadata": {},
   "outputs": [],
   "source": [
    "import torch\n",
    "import numpy as np\n",
    "from sklearn.linear_model import LinearRegression\n",
    "from model import NNLRModule, NNtraining, seperating"
   ]
  },
  {
   "cell_type": "markdown",
   "metadata": {},
   "source": [
    "## 1. Load the data"
   ]
  },
  {
   "cell_type": "code",
   "execution_count": 12,
   "metadata": {},
   "outputs": [],
   "source": [
    "x = np.genfromtxt('data/x_train.csv', delimiter=',')\n",
    "y = np.genfromtxt('data/y_train.csv', delimiter=',').reshape(-1,1)"
   ]
  },
  {
   "cell_type": "code",
   "execution_count": 13,
   "metadata": {},
   "outputs": [],
   "source": [
    "x_test = np.genfromtxt('data/x_test.csv', delimiter=',')\n",
    "y_test = np.genfromtxt('data/y_test.csv', delimiter=',').reshape(-1,1)"
   ]
  },
  {
   "cell_type": "code",
   "execution_count": 14,
   "metadata": {},
   "outputs": [],
   "source": [
    "lr_coef = np.genfromtxt('summary_statistics/beta_mean.csv', delimiter=',').reshape(-1,1)\n",
    "lr_std = np.genfromtxt('summary_statistics/beta_std.csv', delimiter=',').reshape(-1,1)"
   ]
  },
  {
   "cell_type": "markdown",
   "metadata": {},
   "source": [
    "## 2. Calibrate the summary statistics"
   ]
  },
  {
   "cell_type": "code",
   "execution_count": 15,
   "metadata": {},
   "outputs": [
    {
     "name": "stdout",
     "output_type": "stream",
     "text": [
      "---- performance of empirical prior\n",
      "MSE: 2.0318041518294794; PVE: -0.5485327449680681\n",
      "---- performance of external prior\n",
      "MSE: 1.5255735233867924; PVE: -0.15990745527944372\n",
      "---- performance of calibrated external prior\n",
      "MSE: 1.331835053602444; PVE: 0.04212891864556545\n"
     ]
    }
   ],
   "source": [
    "######\n",
    "print('---- performance of empirical prior')\n",
    "lr_train = LinearRegression(fit_intercept=False).fit(x, y); mse = np.mean((y_test - lr_train.predict(x_test))**2); pve = 1 - np.var(y_test - lr_train.predict(x_test)) / np.var(y_test)\n",
    "print('MSE: '+str(mse)+ '; PVE: '+str(pve))\n",
    "print('---- performance of external prior')\n",
    "y_pred = np.matmul(x_test, lr_coef)\n",
    "mse = np.mean((y_test - y_pred)**2); pve = 1 - np.var(y_test - y_pred) / np.var(y_test)\n",
    "print('MSE: '+str(mse)+ '; PVE: '+str(pve))\n",
    "print('---- performance of calibrated external prior')\n",
    "lr_calibrate = LinearRegression().fit(np.matmul(x, lr_coef), y); lr_coef = lr_coef * lr_calibrate.coef_[0][0]; lr_std = lr_std * lr_calibrate.coef_[0][0]; y_pred = np.matmul(x_test, lr_coef)\n",
    "mse = np.mean((y_test - y_pred)**2); pve = 1 - np.var(y_test - y_pred) / np.var(y_test)\n",
    "print('MSE: '+str(mse)+ '; PVE: '+str(pve))\n",
    "#####"
   ]
  },
  {
   "cell_type": "markdown",
   "metadata": {},
   "source": [
    "## 3. NN training"
   ]
  },
  {
   "cell_type": "code",
   "execution_count": 6,
   "metadata": {},
   "outputs": [],
   "source": [
    "x = torch.tensor(x, dtype=torch.float); y = torch.tensor(y, dtype=torch.float)\n",
    "x_test = torch.tensor(x_test, dtype=torch.float); y_test = torch.tensor(y_test, dtype=torch.float)\n",
    "x_train, y_train, x_val, y_val = seperating(x, y)"
   ]
  },
  {
   "cell_type": "markdown",
   "metadata": {},
   "source": [
    "### 3.1 NN with main effect prior"
   ]
  },
  {
   "cell_type": "code",
   "execution_count": 7,
   "metadata": {},
   "outputs": [],
   "source": [
    "batch_size = 100\n",
    "num_epoch = 3000\n",
    "num_nodes = [20, 10]\n",
    "learning_rate=0.001\n",
    "\n",
    "reg_weight_main = 0.05\n",
    "reg_weight_nn = 0.05\n",
    "reg_weight_info = 0.01"
   ]
  },
  {
   "cell_type": "code",
   "execution_count": 8,
   "metadata": {},
   "outputs": [
    {
     "name": "stdout",
     "output_type": "stream",
     "text": [
      "Compute the gram matrix\n",
      "Compute the gram matrix done!\n",
      ">>> Epoch   250/ 3000 | train_mse=0.69119 | val_mse=0.91281 | train_pve=0.47684 | val_pve=0.20437\n",
      "tensor(0.1391)\n"
     ]
    }
   ],
   "source": [
    "torch.manual_seed(0)\n",
    "model = NNLRModule(x.shape[1], num_nodes)\n",
    "NN = NNtraining(model, learning_rate=learning_rate, batch_size=batch_size, num_epoch=int(num_epoch), reg_weight_main=reg_weight_main, reg_weight_nn=reg_weight_nn, reg_weight_info=reg_weight_info, use_early_stopping = True)\n",
    "NN.training(x_train, y_train, x_val, y_val,  main_effect = lr_coef,  main_effect_std = lr_std, marginal = False)\n",
    "mse, pve = NN.build_evaluation(x_test, y_test)\n",
    "print(pve)"
   ]
  },
  {
   "cell_type": "markdown",
   "metadata": {},
   "source": [
    "### 3.2 NN without main effect prior"
   ]
  },
  {
   "cell_type": "code",
   "execution_count": 9,
   "metadata": {},
   "outputs": [
    {
     "name": "stdout",
     "output_type": "stream",
     "text": [
      "Compute the gram matrix\n",
      "Compute the gram matrix done!\n",
      ">>> Epoch   317/ 3000 | train_mse=0.62534 | val_mse=0.96895 | train_pve=0.52669 | val_pve=0.16121\n",
      "tensor(0.1018)\n"
     ]
    }
   ],
   "source": [
    "reg_weight_info = 0.0\n",
    "torch.manual_seed(0)\n",
    "model = NNLRModule(x.shape[1], num_nodes)\n",
    "NN = NNtraining(model, learning_rate=learning_rate, batch_size=batch_size, num_epoch=int(num_epoch), reg_weight_main=reg_weight_main, reg_weight_nn=reg_weight_nn, reg_weight_info=reg_weight_info, use_early_stopping = True)\n",
    "NN.training(x_train, y_train, x_val, y_val, main_effect = lr_coef,  main_effect_std = lr_std, marginal = False)\n",
    "mse, pve = NN.build_evaluation(x_test, y_test)\n",
    "print(pve)"
   ]
  }
 ],
 "metadata": {
  "kernelspec": {
   "display_name": "Python 3/anaconda",
   "language": "python",
   "name": "python3"
  },
  "language_info": {
   "codemirror_mode": {
    "name": "ipython",
    "version": 3
   },
   "file_extension": ".py",
   "mimetype": "text/x-python",
   "name": "python",
   "nbconvert_exporter": "python",
   "pygments_lexer": "ipython3",
   "version": "3.8.10"
  }
 },
 "nbformat": 4,
 "nbformat_minor": 4
}
